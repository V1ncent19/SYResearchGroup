{
 "cells": [
  {
   "cell_type": "code",
   "execution_count": 12,
   "metadata": {},
   "outputs": [],
   "source": [
    "import os\n",
    "import pandas as pd\n",
    "import numpy as np\n",
    "import torch\n",
    "import torch.nn as nn\n",
    "import torch.utils.data as dat\n",
    "import torch.optim as optim\n",
    "from transformers import AutoModel, AutoTokenizer"
   ]
  },
  {
   "cell_type": "code",
   "execution_count": 14,
   "metadata": {},
   "outputs": [],
   "source": [
    "device = torch.device('cuda')\n",
    "batch_size = 2\n",
    "epoches = 100\n",
    "model = \"bert-base-chinese\"\n",
    "hidden_size = 768\n",
    "n_class = 2\n",
    "maxlen = 8"
   ]
  },
  {
   "cell_type": "code",
   "execution_count": 24,
   "metadata": {},
   "outputs": [
    {
     "data": {
      "text/plain": [
       "7"
      ]
     },
     "execution_count": 24,
     "metadata": {},
     "output_type": "execute_result"
    }
   ],
   "source": [
    "sentence = [\"我不喜欢打篮球\",\"这个书包很好看\",\"今天玩得很开心\",\"我很讨厌吃西蓝花\",\"这真是太糟糕了\",\"我想起高兴的事情\",\"这个模型的结果还挺好\"]\n",
    "true_labels = [0,1,1,0,0,1,1]\n",
    "word_list = ' '.join(sentence).split()\n",
    "word_list = list(set(word_list))\n",
    "word_dict = {w:i for i,w in enumerate(word_list)}\n",
    "num_dict = {i:w for w,i in word_dict.items()}\n",
    "vocab_size = len(word_list)\n",
    "vocab_size"
   ]
  },
  {
   "cell_type": "code",
   "execution_count": 11,
   "metadata": {},
   "outputs": [
    {
     "data": {
      "text/plain": [
       "[1762,\n",
       " 2458,\n",
       " 4970,\n",
       " 6858,\n",
       " 7599,\n",
       " 3198,\n",
       " 8024,\n",
       " 711,\n",
       " 749,\n",
       " 6912,\n",
       " 1048,\n",
       " 4833,\n",
       " 4821,\n",
       " 8024,\n",
       " 6435,\n",
       " 2644,\n",
       " 677,\n",
       " 2647,\n",
       " 2802,\n",
       " 2458]"
      ]
     },
     "execution_count": 11,
     "metadata": {},
     "output_type": "execute_result"
    }
   ],
   "source": [
    "words='在开窗通风时，为了避免磕碰，请您上悬打开'\n",
    "token_words = bert_tokenizer.tokenize(''.join(words))\n",
    "idx_words = bert_tokenizer.convert_tokens_to_ids(token_words)\n",
    "idx_words"
   ]
  },
  {
   "cell_type": "code",
   "execution_count": null,
   "metadata": {},
   "outputs": [],
   "source": []
  }
 ],
 "metadata": {
  "interpreter": {
   "hash": "027839643d7998ffd6fa0c5ab1b88f63a5e12fd36b4c0b9396bb75f20e620ca3"
  },
  "kernelspec": {
   "display_name": "Python 3.7.11 ('pytorch')",
   "language": "python",
   "name": "python3"
  },
  "language_info": {
   "codemirror_mode": {
    "name": "ipython",
    "version": 3
   },
   "file_extension": ".py",
   "mimetype": "text/x-python",
   "name": "python",
   "nbconvert_exporter": "python",
   "pygments_lexer": "ipython3",
   "version": "3.7.11"
  },
  "orig_nbformat": 4
 },
 "nbformat": 4,
 "nbformat_minor": 2
}
